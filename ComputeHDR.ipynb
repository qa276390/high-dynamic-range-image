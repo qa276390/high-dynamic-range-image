{
 "cells": [
  {
   "cell_type": "code",
   "execution_count": 1,
   "metadata": {},
   "outputs": [],
   "source": [
    "import numpy as np\n",
    "import cv2\n",
    "from hdrtool import hdr\n",
    "import pandas as pd\n",
    "import os\n",
    "import importlib\n",
    "import time\n",
    "import matplotlib.pyplot as plt\n",
    "import threading"
   ]
  },
  {
   "cell_type": "code",
   "execution_count": 2,
   "metadata": {},
   "outputs": [],
   "source": [
    "df = pd.read_csv('./images/memorial.hdr_image_list.csv', sep='\\s+') "
   ]
  },
  {
   "cell_type": "code",
   "execution_count": 3,
   "metadata": {},
   "outputs": [],
   "source": [
    "df['exposetime'] = 1/df['1/shutter_speed']"
   ]
  },
  {
   "cell_type": "code",
   "execution_count": 4,
   "metadata": {},
   "outputs": [
    {
     "data": {
      "text/plain": [
       "0     32.000000\n",
       "1     16.000000\n",
       "2      8.000000\n",
       "3      4.000000\n",
       "4      2.000000\n",
       "5      1.000000\n",
       "6      0.500000\n",
       "7      0.250000\n",
       "8      0.125000\n",
       "9      0.062500\n",
       "10     0.031250\n",
       "11     0.015625\n",
       "12     0.007812\n",
       "13     0.003906\n",
       "14     0.001953\n",
       "15     0.000977\n",
       "Name: exposetime, dtype: float64"
      ]
     },
     "execution_count": 4,
     "metadata": {},
     "output_type": "execute_result"
    }
   ],
   "source": [
    "df.exposetime"
   ]
  },
  {
   "cell_type": "code",
   "execution_count": 6,
   "metadata": {},
   "outputs": [],
   "source": [
    "N = len(df)\n",
    "imgs = []"
   ]
  },
  {
   "cell_type": "code",
   "execution_count": 7,
   "metadata": {},
   "outputs": [],
   "source": [
    "for fn in df.Filename:\n",
    "    imgs.append(cv2.imread(os.path.join('./images',fn)))"
   ]
  },
  {
   "cell_type": "markdown",
   "metadata": {},
   "source": [
    "## Test"
   ]
  },
  {
   "cell_type": "code",
   "execution_count": 18,
   "metadata": {},
   "outputs": [],
   "source": [
    "def expand_integer_grid(arr, n_classes):\n",
    "    \"\"\"\n",
    "\n",
    "    :param arr: N dim array of size i_1, ..., i_N\n",
    "    :param n_classes: C\n",
    "    :returns: one-hot N+1 dim array of size i_1, ..., i_N, C\n",
    "    :rtype: ndarray\n",
    "\n",
    "    \"\"\"\n",
    "    one_hot = np.zeros(arr.shape + (n_classes,))\n",
    "    axes_ranges = [range(arr.shape[i]) for i in range(arr.ndim)]\n",
    "    flat_grids = [_.ravel() for _ in np.meshgrid(*axes_ranges, indexing='ij')]\n",
    "    one_hot[flat_grids + [arr.ravel()]] = 1\n",
    "    assert((one_hot.sum(-1) == 1).all())\n",
    "    assert(np.allclose(np.argmax(one_hot, -1), arr))\n",
    "    return one_hot"
   ]
  },
  {
   "cell_type": "code",
   "execution_count": 8,
   "metadata": {},
   "outputs": [
    {
     "data": {
      "text/plain": [
       "list"
      ]
     },
     "execution_count": 8,
     "metadata": {},
     "output_type": "execute_result"
    }
   ],
   "source": [
    "type(imgs)"
   ]
  },
  {
   "cell_type": "code",
   "execution_count": 9,
   "metadata": {},
   "outputs": [],
   "source": [
    "imgstack = np.asarray(imgs)"
   ]
  },
  {
   "cell_type": "code",
   "execution_count": 10,
   "metadata": {},
   "outputs": [],
   "source": [
    "images = imgstack[:,:,:,0]"
   ]
  },
  {
   "cell_type": "code",
   "execution_count": 11,
   "metadata": {
    "scrolled": true
   },
   "outputs": [
    {
     "name": "stdout",
     "output_type": "stream",
     "text": [
      "256\n"
     ]
    }
   ],
   "source": [
    "n_class = images.max() +1\n",
    "print(n_class)"
   ]
  },
  {
   "cell_type": "code",
   "execution_count": 19,
   "metadata": {},
   "outputs": [
    {
     "name": "stderr",
     "output_type": "stream",
     "text": [
      "/home/tsai/anaconda3/envs/torch-env/lib/python3.6/site-packages/ipykernel_launcher.py:13: FutureWarning: Using a non-tuple sequence for multidimensional indexing is deprecated; use `arr[tuple(seq)]` instead of `arr[seq]`. In the future this will be interpreted as an array index, `arr[np.array(seq)]`, which will result either in an error or a different result.\n",
      "  del sys.path[0]\n"
     ]
    }
   ],
   "source": [
    "onehot = expand_integer_grid(images, 256)"
   ]
  },
  {
   "cell_type": "code",
   "execution_count": null,
   "metadata": {},
   "outputs": [],
   "source": [
    "onehot[:,images] = 1"
   ]
  },
  {
   "cell_type": "code",
   "execution_count": 21,
   "metadata": {},
   "outputs": [
    {
     "data": {
      "text/plain": [
       "(16, 768, 512, 256)"
      ]
     },
     "execution_count": 21,
     "metadata": {},
     "output_type": "execute_result"
    }
   ],
   "source": [
    "onehot.shape"
   ]
  },
  {
   "cell_type": "code",
   "execution_count": 25,
   "metadata": {},
   "outputs": [
    {
     "name": "stdout",
     "output_type": "stream",
     "text": [
      "(16, 768, 512)\n"
     ]
    }
   ],
   "source": [
    "\n",
    "print(imgones.shape)"
   ]
  },
  {
   "cell_type": "code",
   "execution_count": 34,
   "metadata": {},
   "outputs": [],
   "source": [
    "nG = np.arange(1,17)[:, np.newaxis, np.newaxis]*imgones"
   ]
  },
  {
   "cell_type": "code",
   "execution_count": 36,
   "metadata": {},
   "outputs": [
    {
     "data": {
      "text/plain": [
       "array([[3., 3., 3., ..., 3., 3., 3.],\n",
       "       [3., 3., 3., ..., 3., 3., 3.],\n",
       "       [3., 3., 3., ..., 3., 3., 3.],\n",
       "       ...,\n",
       "       [3., 3., 3., ..., 3., 3., 3.],\n",
       "       [3., 3., 3., ..., 3., 3., 3.],\n",
       "       [3., 3., 3., ..., 3., 3., 3.]])"
      ]
     },
     "execution_count": 36,
     "metadata": {},
     "output_type": "execute_result"
    }
   ],
   "source": [
    "nG[2, :, :]"
   ]
  },
  {
   "cell_type": "code",
   "execution_count": 38,
   "metadata": {},
   "outputs": [
    {
     "data": {
      "text/plain": [
       "(768, 512)"
      ]
     },
     "execution_count": 38,
     "metadata": {},
     "output_type": "execute_result"
    }
   ],
   "source": [
    "np.sum(nG, axis=0).shape"
   ]
  },
  {
   "cell_type": "code",
   "execution_count": 81,
   "metadata": {},
   "outputs": [
    {
     "data": {
      "text/plain": [
       "<matplotlib.image.AxesImage at 0x7fea51f3ecc0>"
      ]
     },
     "execution_count": 81,
     "metadata": {},
     "output_type": "execute_result"
    },
    {
     "data": {
      "image/png": "[encoded data removed]",
      "text/plain": [
       "<Figure size 432x288 with 1 Axes>"
      ]
     },
     "metadata": {
      "needs_background": "light"
     },
     "output_type": "display_data"
    }
   ],
   "source": [
    "plt.imshow(cv2.cvtColor(cv2.imread(os.path.join('./images',df.Filename[0])), cv2.COLOR_BGR2RGB))"
   ]
  },
  {
   "cell_type": "markdown",
   "metadata": {},
   "source": [
    "## Compute HDR"
   ]
  },
  {
   "cell_type": "code",
   "execution_count": 31,
   "metadata": {},
   "outputs": [
    {
     "data": {
      "text/plain": [
       "<module 'hdrtool.hdr' from '/home/tsai/workspace/high-dynamic-range-image/hdrtool/hdr.py'>"
      ]
     },
     "execution_count": 31,
     "metadata": {},
     "output_type": "execute_result"
    }
   ],
   "source": [
    "#relode module\n",
    "importlib.reload(hdr)"
   ]
  },
  {
   "cell_type": "code",
   "execution_count": null,
   "metadata": {
    "scrolled": false
   },
   "outputs": [
    {
     "name": "stdout",
     "output_type": "stream",
     "text": [
      "channel: 0\n",
      "    sampling intensities...\n",
      "    running time: 1.1205694675445557\n",
      "    computing response curve...\n",
      "    running time: 0.9892082214355469\n",
      "    building irradiance map using np...\n",
      "    running time: 26.241246938705444\n",
      "    building irradiance map...\n"
     ]
    }
   ],
   "source": [
    "hdrs = hdr.computeHDR(imgs, np.log(df.exposetime))"
   ]
  },
  {
   "cell_type": "code",
   "execution_count": 29,
   "metadata": {},
   "outputs": [
    {
     "data": {
      "text/plain": [
       "(768, 512, 3)"
      ]
     },
     "execution_count": 29,
     "metadata": {},
     "output_type": "execute_result"
    }
   ],
   "source": [
    "hdrs.shape"
   ]
  },
  {
   "cell_type": "code",
   "execution_count": 30,
   "metadata": {},
   "outputs": [
    {
     "data": {
      "text/plain": [
       "<matplotlib.image.AxesImage at 0x7f42e4b1f518>"
      ]
     },
     "execution_count": 30,
     "metadata": {},
     "output_type": "execute_result"
    },
    {
     "data": {
      "image/png": "[encoded data removed]",
      "text/plain": [
       "<Figure size 432x288 with 1 Axes>"
      ]
     },
     "metadata": {
      "needs_background": "light"
     },
     "output_type": "display_data"
    }
   ],
   "source": [
    "plt.imshow(cv2.cvtColor(hdrs, cv2.COLOR_BGR2RGB))"
   ]
  },
  {
   "cell_type": "code",
   "execution_count": 33,
   "metadata": {},
   "outputs": [],
   "source": [
    "?cv2.imshow"
   ]
  },
  {
   "cell_type": "code",
   "execution_count": 48,
   "metadata": {},
   "outputs": [],
   "source": [
    "inp = np.zeros((10,5))\n",
    "out = np.zeros(inp.shape)"
   ]
  },
  {
   "cell_type": "code",
   "execution_count": 54,
   "metadata": {},
   "outputs": [
    {
     "data": {
      "text/plain": [
       "array([[0., 0., 0., 0., 0.],\n",
       "       [0., 0., 0., 0., 0.],\n",
       "       [0., 0., 0., 0., 0.],\n",
       "       [0., 0., 0., 0., 0.],\n",
       "       [0., 0., 0., 0., 0.],\n",
       "       [0., 0., 0., 0., 0.],\n",
       "       [0., 0., 0., 0., 0.],\n",
       "       [0., 0., 0., 0., 0.],\n",
       "       [0., 0., 0., 0., 0.],\n",
       "       [0., 0., 0., 0., 0.]])"
      ]
     },
     "execution_count": 54,
     "metadata": {},
     "output_type": "execute_result"
    }
   ],
   "source": [
    "cv2.normalize(src=inp , dst=out, alpha=0, beta=255, norm_type=cv2.NORM_MINMAX)"
   ]
  },
  {
   "cell_type": "code",
   "execution_count": 47,
   "metadata": {},
   "outputs": [
    {
     "name": "stdout",
     "output_type": "stream",
     "text": [
      "Help on built-in function normalize:\n",
      "\n",
      "normalize(...)\n",
      "    normalize(src, dst[, alpha[, beta[, norm_type[, dtype[, mask]]]]]) -> dst\n",
      "    .   @brief Normalizes the norm or value range of an array.\n",
      "    .   \n",
      "    .   The function cv::normalize normalizes scale and shift the input array elements so that\n",
      "    .   \\f[\\| \\texttt{dst} \\| _{L_p}= \\texttt{alpha}\\f]\n",
      "    .   (where p=Inf, 1 or 2) when normType=NORM_INF, NORM_L1, or NORM_L2, respectively; or so that\n",
      "    .   \\f[\\min _I  \\texttt{dst} (I)= \\texttt{alpha} , \\, \\, \\max _I  \\texttt{dst} (I)= \\texttt{beta}\\f]\n",
      "    .   \n",
      "    .   when normType=NORM_MINMAX (for dense arrays only). The optional mask specifies a sub-array to be\n",
      "    .   normalized. This means that the norm or min-n-max are calculated over the sub-array, and then this\n",
      "    .   sub-array is modified to be normalized. If you want to only use the mask to calculate the norm or\n",
      "    .   min-max but modify the whole array, you can use norm and Mat::convertTo.\n",
      "    .   \n",
      "    .   In case of sparse matrices, only the non-zero values are analyzed and transformed. Because of this,\n",
      "    .   the range transformation for sparse matrices is not allowed since it can shift the zero level.\n",
      "    .   \n",
      "    .   Possible usage with some positive example data:\n",
      "    .   @code{.cpp}\n",
      "    .   vector<double> positiveData = { 2.0, 8.0, 10.0 };\n",
      "    .   vector<double> normalizedData_l1, normalizedData_l2, normalizedData_inf, normalizedData_minmax;\n",
      "    .   \n",
      "    .   // Norm to probability (total count)\n",
      "    .   // sum(numbers) = 20.0\n",
      "    .   // 2.0      0.1     (2.0/20.0)\n",
      "    .   // 8.0      0.4     (8.0/20.0)\n",
      "    .   // 10.0     0.5     (10.0/20.0)\n",
      "    .   normalize(positiveData, normalizedData_l1, 1.0, 0.0, NORM_L1);\n",
      "    .   \n",
      "    .   // Norm to unit vector: ||positiveData|| = 1.0\n",
      "    .   // 2.0      0.15\n",
      "    .   // 8.0      0.62\n",
      "    .   // 10.0     0.77\n",
      "    .   normalize(positiveData, normalizedData_l2, 1.0, 0.0, NORM_L2);\n",
      "    .   \n",
      "    .   // Norm to max element\n",
      "    .   // 2.0      0.2     (2.0/10.0)\n",
      "    .   // 8.0      0.8     (8.0/10.0)\n",
      "    .   // 10.0     1.0     (10.0/10.0)\n",
      "    .   normalize(positiveData, normalizedData_inf, 1.0, 0.0, NORM_INF);\n",
      "    .   \n",
      "    .   // Norm to range [0.0;1.0]\n",
      "    .   // 2.0      0.0     (shift to left border)\n",
      "    .   // 8.0      0.75    (6.0/8.0)\n",
      "    .   // 10.0     1.0     (shift to right border)\n",
      "    .   normalize(positiveData, normalizedData_minmax, 1.0, 0.0, NORM_MINMAX);\n",
      "    .   @endcode\n",
      "    .   \n",
      "    .   @param src input array.\n",
      "    .   @param dst output array of the same size as src .\n",
      "    .   @param alpha norm value to normalize to or the lower range boundary in case of the range\n",
      "    .   normalization.\n",
      "    .   @param beta upper range boundary in case of the range normalization; it is not used for the norm\n",
      "    .   normalization.\n",
      "    .   @param norm_type normalization type (see cv::NormTypes).\n",
      "    .   @param dtype when negative, the output array has the same type as src; otherwise, it has the same\n",
      "    .   number of channels as src and the depth =CV_MAT_DEPTH(dtype).\n",
      "    .   @param mask optional operation mask.\n",
      "    .   @sa norm, Mat::convertTo, SparseMat::convertTo\n",
      "\n"
     ]
    }
   ],
   "source": [
    "help(cv2.normalize)"
   ]
  },
  {
   "cell_type": "code",
   "execution_count": 3,
   "metadata": {},
   "outputs": [
    {
     "name": "stdout",
     "output_type": "stream",
     "text": [
      "hi\n"
     ]
    },
    {
     "data": {
      "text/plain": [
       "0"
      ]
     },
     "execution_count": 3,
     "metadata": {},
     "output_type": "execute_result"
    }
   ],
   "source": [
    "say_hi()"
   ]
  },
  {
   "cell_type": "code",
   "execution_count": 24,
   "metadata": {},
   "outputs": [
    {
     "data": {
      "text/plain": [
       "1585300254.8480005"
      ]
     },
     "execution_count": 24,
     "metadata": {},
     "output_type": "execute_result"
    }
   ],
   "source": [
    "time.time()"
   ]
  },
  {
   "cell_type": "code",
   "execution_count": null,
   "metadata": {},
   "outputs": [],
   "source": []
  }
 ],
 "metadata": {
  "kernelspec": {
   "display_name": "torch-env",
   "language": "python",
   "name": "torch-env"
  },
  "language_info": {
   "codemirror_mode": {
    "name": "ipython",
    "version": 3
   },
   "file_extension": ".py",
   "mimetype": "text/x-python",
   "name": "python",
   "nbconvert_exporter": "python",
   "pygments_lexer": "ipython3",
   "version": "3.6.9"
  }
 },
 "nbformat": 4,
 "nbformat_minor": 2
}
